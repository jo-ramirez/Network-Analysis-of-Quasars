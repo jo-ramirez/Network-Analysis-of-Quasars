{
 "cells": [
  {
   "cell_type": "code",
   "execution_count": 1,
   "id": "8cefcbea",
   "metadata": {},
   "outputs": [
    {
     "ename": "ImportError",
     "evalue": "cannot import name 'fits' from 'astropy' (c:\\Users\\jm_ra\\AppData\\Local\\Programs\\Python\\Python313\\Lib\\site-packages\\astropy\\__init__.py)",
     "output_type": "error",
     "traceback": [
      "\u001b[31m---------------------------------------------------------------------------\u001b[39m",
      "\u001b[31mImportError\u001b[39m                               Traceback (most recent call last)",
      "\u001b[36mCell\u001b[39m\u001b[36m \u001b[39m\u001b[32mIn[1]\u001b[39m\u001b[32m, line 1\u001b[39m\n\u001b[32m----> \u001b[39m\u001b[32m1\u001b[39m \u001b[38;5;28;01mfrom\u001b[39;00m\u001b[38;5;250m \u001b[39m\u001b[34;01mastropy\u001b[39;00m\u001b[38;5;250m \u001b[39m\u001b[38;5;28;01mimport\u001b[39;00m fits\n",
      "\u001b[31mImportError\u001b[39m: cannot import name 'fits' from 'astropy' (c:\\Users\\jm_ra\\AppData\\Local\\Programs\\Python\\Python313\\Lib\\site-packages\\astropy\\__init__.py)"
     ]
    }
   ],
   "source": [
    "from astropy import fits"
   ]
  },
  {
   "cell_type": "code",
   "execution_count": null,
   "id": "eb5f3b92",
   "metadata": {},
   "outputs": [],
   "source": []
  }
 ],
 "metadata": {
  "kernelspec": {
   "display_name": "Python 3",
   "language": "python",
   "name": "python3"
  },
  "language_info": {
   "codemirror_mode": {
    "name": "ipython",
    "version": 3
   },
   "file_extension": ".py",
   "mimetype": "text/x-python",
   "name": "python",
   "nbconvert_exporter": "python",
   "pygments_lexer": "ipython3",
   "version": "3.13.2"
  }
 },
 "nbformat": 4,
 "nbformat_minor": 5
}
