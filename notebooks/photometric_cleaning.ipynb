{
 "cells": [
  {
   "cell_type": "markdown",
   "id": "9462c474",
   "metadata": {},
   "source": [
    "# Procesamiento De Datos Fotometricos\n",
    "\n",
    "En este notebook se implementa la obtencion de datos fotometricos del catalago SDSS DR16Q los cuales no se encuentran corregidor, de modo que este notebook busca tambien la limpieza y correcion de estos.\n",
    "\n",
    "Datos utilizados:\n",
    "\n",
    "- `Z` : Redshift calculado por SDSS\n",
    "- `PSFMAG_u`: Magnitud filtro u.\n",
    "- `PSFMAG_g`: Magnitud filtro g.\n",
    "- `PSFMAG_r`: Magnitud filtro r.\n",
    "- `PSFMAG_i`: Magnitud filtro i.\n",
    "- `SN_MEDIAN_ALL`: Senal a ruido de la medicion.\n",
    "\n",
    "De estos datos se espera tener un valor para el color"
   ]
  },
  {
   "cell_type": "code",
   "execution_count": 47,
   "id": "1da3b520",
   "metadata": {},
   "outputs": [],
   "source": [
    "import numpy  as np\n",
    "import pandas as pd\n",
    "import matplotlib.pyplot as plt\n",
    "from astropy.io import fits"
   ]
  },
  {
   "cell_type": "code",
   "execution_count": 29,
   "id": "eb5f3b92",
   "metadata": {},
   "outputs": [
    {
     "name": "stdout",
     "output_type": "stream",
     "text": [
      "Filename: ../data/raw/DR16Q_v4.fits\n",
      "No.    Name      Ver    Type      Cards   Dimensions   Format\n",
      "  0  PRIMARY       1 PrimaryHDU       4   ()      \n",
      "  1  CATALOG       1 BinTableHDU    375   750414R x 183C   [18A, D, D, J, J, I, 6A, 6A, I, D, I, D, I, I, I, K, D, I, I, D, I, D, I, D, D, I, D, 12A, D, J, 19A, D, K, D, D, K, D, D, K, D, D, K, D, D, K, D, D, K, D, D, K, D, E, 5D, 5D, 5D, E, D, D, D, D, D, D, D, D, K, K, K, K, K, K, J, J, J, 74J, 74J, 74I, 74I, B, J, 3A, J, J, J, D, D, D, D, 14A, J, D, 5E, 5D, 5E, 5D, 5E, D, D, I, D, D, D, D, I, D, D, D, D, D, D, D, D, E, E, E, E, E, E, E, E, E, I, E, E, E, E, E, E, E, E, E, I, I, D, D, D, D, D, D, J, D, D, D, J, D, D, D, J, D, 21A, D, D, E, E, D, K, D, D, E, E, E, E, E, E, E, D, I, 28A, D, D, D, D, D, D, D, D, D, D, D, D, D, D, D]   \n"
     ]
    }
   ],
   "source": [
    "hdul = fits.open(\"../data/raw/DR16Q_v4.fits\", memmap=False)\n",
    "hdul.info()"
   ]
  },
  {
   "cell_type": "code",
   "execution_count": 30,
   "id": "d57498f5",
   "metadata": {},
   "outputs": [],
   "source": [
    "header = hdul[1].header\n",
    "data   = hdul[1].data"
   ]
  },
  {
   "cell_type": "code",
   "execution_count": 31,
   "id": "246cb2e6",
   "metadata": {},
   "outputs": [
    {
     "name": "stdout",
     "output_type": "stream",
     "text": [
      "<class 'pandas.core.frame.DataFrame'>\n",
      "RangeIndex: 750414 entries, 0 to 750413\n",
      "Data columns (total 10 columns):\n",
      " #   Column         Non-Null Count   Dtype  \n",
      "---  ------         --------------   -----  \n",
      " 0   Z              750414 non-null  float64\n",
      " 1   PSFMAG_u       750414 non-null  >f4    \n",
      " 2   PSFMAG_g       750414 non-null  >f4    \n",
      " 3   PSFMAG_r       750414 non-null  >f4    \n",
      " 4   PSFMAG_i       750414 non-null  >f4    \n",
      " 5   EXTINCTION_u   750414 non-null  >f4    \n",
      " 6   EXTINCTION_g   750414 non-null  >f4    \n",
      " 7   EXTINCTION_r   750414 non-null  >f4    \n",
      " 8   EXTINCTION_i   750414 non-null  >f4    \n",
      " 9   SN_MEDIAN_ALL  750414 non-null  float64\n",
      "dtypes: float32(8), float64(2)\n",
      "memory usage: 34.4 MB\n"
     ]
    }
   ],
   "source": [
    "df = pd.DataFrame({\n",
    "    \"Z\"            : np.array(data[\"Z\"]),\n",
    "    \"PSFMAG_u\"     : np.array(data[\"PSFMAG\"])[:, 0],\n",
    "    \"PSFMAG_g\"     : np.array(data[\"PSFMAG\"])[:, 1],\n",
    "    \"PSFMAG_r\"     : np.array(data[\"PSFMAG\"])[:, 2],\n",
    "    \"PSFMAG_i\"     : np.array(data[\"PSFMAG\"])[:, 3],\n",
    "\n",
    "    \"EXTINCTION_u\"   : np.array(data[\"EXTINCTION\"])[:, 0],\n",
    "    \"EXTINCTION_g\"   : np.array(data[\"EXTINCTION\"])[:, 1],\n",
    "    \"EXTINCTION_r\"   : np.array(data[\"EXTINCTION\"])[:, 2],\n",
    "    \"EXTINCTION_i\"   : np.array(data[\"EXTINCTION\"])[:, 3],\n",
    "\n",
    "    \"SN_MEDIAN_ALL\": np.array(data[\"SN_MEDIAN_ALL\"]),\n",
    "})\n",
    "\n",
    "df.info()"
   ]
  },
  {
   "cell_type": "code",
   "execution_count": 32,
   "id": "4f79abfa",
   "metadata": {},
   "outputs": [],
   "source": [
    "for c in df.columns: \n",
    "    df[c] = df[c].astype(np.float64, copy=False)\n",
    "\n",
    "df = df.replace(-9999, np.nan).dropna(subset=[\"Z\",\"PSFMAG_u\",\"PSFMAG_g\",\"PSFMAG_r\",\"PSFMAG_i\",\"SN_MEDIAN_ALL\"])\n",
    "df = df.query(\"12 < PSFMAG_u < 30 and 12 < PSFMAG_g < 30 and 12 < PSFMAG_r < 30 and 12 < PSFMAG_i < 30\")"
   ]
  },
  {
   "cell_type": "markdown",
   "id": "508a3709",
   "metadata": {},
   "source": [
    "Aplicamos la correcion por extincion galactica\n",
    "\n",
    "$$\n",
    "    m_{corr} = m_{obs} - A_{band}\n",
    "$$"
   ]
  },
  {
   "cell_type": "code",
   "execution_count": 33,
   "id": "b7d52826",
   "metadata": {},
   "outputs": [],
   "source": [
    "df[\"u_mag\"] = df[\"PSFMAG_u\"] - df[\"EXTINCTION_u\"]\n",
    "df[\"g_mag\"] = df[\"PSFMAG_g\"] - df[\"EXTINCTION_g\"]\n",
    "df[\"r_mag\"] = df[\"PSFMAG_r\"] - df[\"EXTINCTION_r\"]\n",
    "df[\"i_mag\"] = df[\"PSFMAG_i\"] - df[\"EXTINCTION_i\"]"
   ]
  },
  {
   "cell_type": "code",
   "execution_count": 35,
   "id": "ab40e4c6",
   "metadata": {},
   "outputs": [],
   "source": [
    "df[\"u-g\"] = df[\"u_mag\"] - df[\"g_mag\"]\n",
    "df[\"g-r\"] = df[\"g_mag\"] - df[\"r_mag\"]\n",
    "df[\"r-i\"] = df[\"r_mag\"] - df[\"i_mag\"]"
   ]
  },
  {
   "cell_type": "code",
   "execution_count": 43,
   "id": "2526501e",
   "metadata": {},
   "outputs": [
    {
     "name": "stdout",
     "output_type": "stream",
     "text": [
      "<class 'pandas.core.frame.DataFrame'>\n",
      "Index: 7298 entries, 195 to 750260\n",
      "Data columns (total 17 columns):\n",
      " #   Column         Non-Null Count  Dtype  \n",
      "---  ------         --------------  -----  \n",
      " 0   Z              7298 non-null   float64\n",
      " 1   PSFMAG_u       7298 non-null   float64\n",
      " 2   PSFMAG_g       7298 non-null   float64\n",
      " 3   PSFMAG_r       7298 non-null   float64\n",
      " 4   PSFMAG_i       7298 non-null   float64\n",
      " 5   EXTINCTION_u   7298 non-null   float64\n",
      " 6   EXTINCTION_g   7298 non-null   float64\n",
      " 7   EXTINCTION_r   7298 non-null   float64\n",
      " 8   EXTINCTION_i   7298 non-null   float64\n",
      " 9   SN_MEDIAN_ALL  7298 non-null   float64\n",
      " 10  u_mag          7298 non-null   float64\n",
      " 11  g_mag          7298 non-null   float64\n",
      " 12  r_mag          7298 non-null   float64\n",
      " 13  i_mag          7298 non-null   float64\n",
      " 14  u-g            7298 non-null   float64\n",
      " 15  g-r            7298 non-null   float64\n",
      " 16  r-i            7298 non-null   float64\n",
      "dtypes: float64(17)\n",
      "memory usage: 1.0 MB\n"
     ]
    }
   ],
   "source": [
    "df_clean = df [\n",
    "    (df[\"Z\"] < 2.5)             & # Z muy grandes pueden generar probleas\n",
    "    (df[\"SN_MEDIAN_ALL\"] >= 25) & # Buena senal a ruido\n",
    "    (df[\"EXTINCTION_r\"] < 0.3)    # Sin mucha extioncion\n",
    "]\n",
    "\n",
    "df_clean.info()"
   ]
  },
  {
   "cell_type": "code",
   "execution_count": 44,
   "id": "cddfe33d",
   "metadata": {},
   "outputs": [
    {
     "name": "stdout",
     "output_type": "stream",
     "text": [
      "Filename: ../data/templates/optical_nir_qso_sed_001.fits\n",
      "No.    Name      Ver    Type      Cards   Dimensions   Format\n",
      "  0  PRIMARY       1 PrimaryHDU      14   ()      \n",
      "  1                1 BinTableHDU     16   19398R x 2C   [1D, 1D]   \n"
     ]
    }
   ],
   "source": [
    "hdul = fits.open(\"../data/templates/optical_nir_qso_sed_001.fits\")\n",
    "hdul.info()"
   ]
  },
  {
   "cell_type": "code",
   "execution_count": 49,
   "id": "a0429186",
   "metadata": {},
   "outputs": [],
   "source": [
    "wavelength = hdul[1].data[\"WAVELENGTH\"]\n",
    "flux       = hdul[1].data[\"FLUX\"]"
   ]
  },
  {
   "cell_type": "code",
   "execution_count": 52,
   "id": "6633d167",
   "metadata": {},
   "outputs": [
    {
     "data": {
      "image/png": "[encoded data removed]",
      "text/plain": [
       "<Figure size 640x480 with 1 Axes>"
      ]
     },
     "metadata": {},
     "output_type": "display_data"
    }
   ],
   "source": [
    "plt.plot(wavelength, flux)\n",
    "plt.show()"
   ]
  },
  {
   "cell_type": "code",
   "execution_count": 9,
   "id": "b3fc9605",
   "metadata": {},
   "outputs": [],
   "source": [
    "df_clean.to_csv(\"../data/processed/DR16Q_v4_z2.5_sn_15.csv\", index=False)"
   ]
  }
 ],
 "metadata": {
  "kernelspec": {
   "display_name": "venv",
   "language": "python",
   "name": "python3"
  },
  "language_info": {
   "codemirror_mode": {
    "name": "ipython",
    "version": 3
   },
   "file_extension": ".py",
   "mimetype": "text/x-python",
   "name": "python",
   "nbconvert_exporter": "python",
   "pygments_lexer": "ipython3",
   "version": "3.13.2"
  }
 },
 "nbformat": 4,
 "nbformat_minor": 5
}
