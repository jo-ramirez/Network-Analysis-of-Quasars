{
 "cells": [
  {
   "cell_type": "code",
   "execution_count": null,
   "id": "1da3b520",
   "metadata": {},
   "outputs": [],
   "source": [
    "import numpy   as np\n",
    "import pandas  as pd\n",
    "import seaborn as sns\n",
    "import matplotlib.pyplot as plt"
   ]
  },
  {
   "cell_type": "code",
   "execution_count": null,
   "id": "9bb0805d",
   "metadata": {},
   "outputs": [],
   "source": [
    "# -- \n",
    "WISE_W1 = None\n",
    "WISE_W2 = None\n",
    "\n",
    "# -- \n",
    "GALEX_FUV = None\n",
    "GALEX_NUV = None\n",
    "\n",
    "# -- \n",
    "SDSS_U = None\n",
    "SDSS_G = None\n",
    "SDSS_R = None\n",
    "SDSS_I = None\n",
    "SDSS_Z = None\n",
    "\n",
    "# --\n",
    "MASS_H = None\n",
    "MASS_J = None\n",
    "MASS_K = None\n",
    "\n",
    "# -- \n",
    "UKIDDS_H = None\n",
    "UKIDDS_J = None\n",
    "UKIDDS_K = None\n",
    "UKIDDS_Y = None"
   ]
  },
  {
   "cell_type": "code",
   "execution_count": 71,
   "id": "246cb2e6",
   "metadata": {},
   "outputs": [],
   "source": [
    "df = pd.read_csv(\"../data/pre_processed/SDSS_DR14Q_phot.csv\")"
   ]
  }
 ],
 "metadata": {
  "kernelspec": {
   "display_name": "venv",
   "language": "python",
   "name": "python3"
  },
  "language_info": {
   "codemirror_mode": {
    "name": "ipython",
    "version": 3
   },
   "file_extension": ".py",
   "mimetype": "text/x-python",
   "name": "python",
   "nbconvert_exporter": "python",
   "pygments_lexer": "ipython3",
   "version": "3.13.2"
  }
 },
 "nbformat": 4,
 "nbformat_minor": 5
}
